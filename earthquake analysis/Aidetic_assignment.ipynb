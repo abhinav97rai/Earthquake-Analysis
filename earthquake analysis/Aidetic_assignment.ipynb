{
 "cells": [
  {
   "cell_type": "code",
   "execution_count": 1,
   "id": "2ca3abb4-7989-4833-b171-4f356bdc9683",
   "metadata": {},
   "outputs": [],
   "source": [
    "from pyspark.sql import SparkSession\n",
    "from pyspark.sql.functions import *\n",
    "from pyspark.sql import *\n",
    "from pyspark.sql.types import *\n",
    "import os"
   ]
  },
  {
   "cell_type": "markdown",
   "id": "9ca605be-aa0a-466d-94bb-a7468c5d882b",
   "metadata": {},
   "source": [
    "Create the Spark instance and read the data"
   ]
  },
  {
   "cell_type": "code",
   "execution_count": 2,
   "id": "91897e3f-78b4-41af-8e8f-ee13bc70c2f6",
   "metadata": {},
   "outputs": [
    {
     "name": "stderr",
     "output_type": "stream",
     "text": [
      "24/02/10 22:51:12 WARN Utils: Your hostname, omen-OMEN-Laptop-15-ek0025TX-Refurb resolves to a loopback address: 127.0.1.1; using 192.168.1.9 instead (on interface wlo1)\n",
      "24/02/10 22:51:12 WARN Utils: Set SPARK_LOCAL_IP if you need to bind to another address\n",
      "Setting default log level to \"WARN\".\n",
      "To adjust logging level use sc.setLogLevel(newLevel). For SparkR, use setLogLevel(newLevel).\n",
      "24/02/10 22:51:13 WARN NativeCodeLoader: Unable to load native-hadoop library for your platform... using builtin-java classes where applicable\n"
     ]
    },
    {
     "name": "stdout",
     "output_type": "stream",
     "text": [
      "+----------+--------+--------+---------+----------+-----+-----------+----------------------+---------+--------------+---------------+--------------------------+-------------+-------------------+----------------+----------------+--------------------+---------+---------------+----------------+---------+\n",
      "|      Date|    Time|Latitude|Longitude|      Type|Depth|Depth Error|Depth Seismic Stations|Magnitude|Magnitude Type|Magnitude Error|Magnitude Seismic Stations|Azimuthal Gap|Horizontal Distance|Horizontal Error|Root Mean Square|                  ID|   Source|Location Source|Magnitude Source|   Status|\n",
      "+----------+--------+--------+---------+----------+-----+-----------+----------------------+---------+--------------+---------------+--------------------------+-------------+-------------------+----------------+----------------+--------------------+---------+---------------+----------------+---------+\n",
      "|01/02/1965|13:44:18|  19.246|  145.616|Earthquake|131.6|       NULL|                  NULL|        6|            MW|           NULL|                      NULL|         NULL|               NULL|            NULL|            NULL|        ISCGEM860706|   ISCGEM|         ISCGEM|          ISCGEM|Automatic|\n",
      "|01/04/1965|11:29:49|   1.863|  127.352|Earthquake|   80|       NULL|                  NULL|      5.8|            MW|           NULL|                      NULL|         NULL|               NULL|            NULL|            NULL|        ISCGEM860737|   ISCGEM|         ISCGEM|          ISCGEM|Automatic|\n",
      "|01/05/1965|18:05:58| -20.579| -173.972|Earthquake|   20|       NULL|                  NULL|      6.2|            MW|           NULL|                      NULL|         NULL|               NULL|            NULL|            NULL|        ISCGEM860762|   ISCGEM|         ISCGEM|          ISCGEM|Automatic|\n",
      "|01/08/1965|18:49:43| -59.076|  -23.557|Earthquake|   15|       NULL|                  NULL|      5.8|            MW|           NULL|                      NULL|         NULL|               NULL|            NULL|            NULL|        ISCGEM860856|   ISCGEM|         ISCGEM|          ISCGEM|Automatic|\n",
      "|01/09/1965|13:32:50|  11.938|  126.427|Earthquake|   15|       NULL|                  NULL|      5.8|            MW|           NULL|                      NULL|         NULL|               NULL|            NULL|            NULL|        ISCGEM860890|   ISCGEM|         ISCGEM|          ISCGEM|Automatic|\n",
      "|01/10/1965|13:36:32| -13.405|  166.629|Earthquake|   35|       NULL|                  NULL|      6.7|            MW|           NULL|                      NULL|         NULL|               NULL|            NULL|            NULL|        ISCGEM860922|   ISCGEM|         ISCGEM|          ISCGEM|Automatic|\n",
      "|01/12/1965|13:32:25|  27.357|   87.867|Earthquake|   20|       NULL|                  NULL|      5.9|            MW|           NULL|                      NULL|         NULL|               NULL|            NULL|            NULL|        ISCGEM861007|   ISCGEM|         ISCGEM|          ISCGEM|Automatic|\n",
      "|01/15/1965|23:17:42| -13.309|  166.212|Earthquake|   35|       NULL|                  NULL|        6|            MW|           NULL|                      NULL|         NULL|               NULL|            NULL|            NULL|        ISCGEM861111|   ISCGEM|         ISCGEM|          ISCGEM|Automatic|\n",
      "|01/16/1965|11:32:37| -56.452|  -27.043|Earthquake|   95|       NULL|                  NULL|        6|            MW|           NULL|                      NULL|         NULL|               NULL|            NULL|            NULL|     ISCGEMSUP861125|ISCGEMSUP|         ISCGEM|          ISCGEM|Automatic|\n",
      "|01/17/1965|10:43:17| -24.563|  178.487|Earthquake|  565|       NULL|                  NULL|      5.8|            MW|           NULL|                      NULL|         NULL|               NULL|            NULL|            NULL|        ISCGEM861148|   ISCGEM|         ISCGEM|          ISCGEM|Automatic|\n",
      "|01/17/1965|20:57:41|  -6.807|  108.988|Earthquake|227.9|       NULL|                  NULL|      5.9|            MW|           NULL|                      NULL|         NULL|               NULL|            NULL|            NULL|        ISCGEM861155|   ISCGEM|         ISCGEM|          ISCGEM|Automatic|\n",
      "|01/24/1965|00:11:17|  -2.608|  125.952|Earthquake|   20|       NULL|                  NULL|      8.2|            MW|           NULL|                      NULL|         NULL|               NULL|            NULL|            NULL|        ISCGEM861299|   ISCGEM|         ISCGEM|          ISCGEM|Automatic|\n",
      "|01/29/1965|09:35:30|  54.636|  161.703|Earthquake|   55|       NULL|                  NULL|      5.5|            MW|           NULL|                      NULL|         NULL|               NULL|            NULL|            NULL|        ISCGEM861461|   ISCGEM|         ISCGEM|          ISCGEM|Automatic|\n",
      "|02/01/1965|05:27:06| -18.697| -177.864|Earthquake|482.9|       NULL|                  NULL|      5.6|            MW|           NULL|                      NULL|         NULL|               NULL|            NULL|            NULL|        ISCGEM859136|   ISCGEM|         ISCGEM|          ISCGEM|Automatic|\n",
      "|02/02/1965|15:56:51|  37.523|   73.251|Earthquake|   15|       NULL|                  NULL|        6|            MW|           NULL|                      NULL|         NULL|               NULL|            NULL|            NULL|        ISCGEM859164|   ISCGEM|         ISCGEM|          ISCGEM|Automatic|\n",
      "|02/04/1965|03:25:00|  -51.84|  139.741|Earthquake|   10|       NULL|                  NULL|      6.1|            MW|           NULL|                      NULL|         NULL|               NULL|            NULL|            NULL|        ISCGEM859200|   ISCGEM|         ISCGEM|          ISCGEM|Automatic|\n",
      "|02/04/1965|05:01:22|  51.251|  178.715|Earthquake| 30.3|       NULL|                  NULL|      8.7|            MW|           NULL|                      NULL|         NULL|               NULL|            NULL|            NULL|OFFICIAL196502040...| OFFICIAL|         ISCGEM|        OFFICIAL|Automatic|\n",
      "|02/04/1965|06:04:59|  51.639|  175.055|Earthquake|   30|       NULL|                  NULL|        6|            MW|           NULL|                      NULL|         NULL|               NULL|            NULL|            NULL|     ISCGEMSUP859215|ISCGEMSUP|         ISCGEM|          ISCGEM|Automatic|\n",
      "|02/04/1965|06:37:06|  52.528|  172.007|Earthquake|   25|       NULL|                  NULL|      5.7|            MW|           NULL|                      NULL|         NULL|               NULL|            NULL|            NULL|        ISCGEM859221|   ISCGEM|         ISCGEM|          ISCGEM|Automatic|\n",
      "|02/04/1965|06:39:32|  51.626|  175.746|Earthquake|   25|       NULL|                  NULL|      5.8|            MW|           NULL|                      NULL|         NULL|               NULL|            NULL|            NULL|        ISCGEM859222|   ISCGEM|         ISCGEM|          ISCGEM|Automatic|\n",
      "+----------+--------+--------+---------+----------+-----+-----------+----------------------+---------+--------------+---------------+--------------------------+-------------+-------------------+----------------+----------------+--------------------+---------+---------------+----------------+---------+\n",
      "only showing top 20 rows\n",
      "\n"
     ]
    }
   ],
   "source": [
    "spark = SparkSession.builder \\\n",
    "        .appName(\"test\") \\\n",
    "        .getOrCreate()\n",
    "df = spark.read.csv(\"./database.csv\",header = True)\n",
    "df.show()"
   ]
  },
  {
   "cell_type": "markdown",
   "id": "84c12609-64b3-4ce9-94c1-0b13f486f58c",
   "metadata": {},
   "source": [
    "Combining the date and timestamp column and converting it the Time"
   ]
  },
  {
   "cell_type": "code",
   "execution_count": 3,
   "id": "3d04b38a-11d1-46b9-a084-2ae0c10b01cc",
   "metadata": {},
   "outputs": [
    {
     "name": "stdout",
     "output_type": "stream",
     "text": [
      "+----------+--------+--------+---------+----------+-----+-----------+----------------------+---------+--------------+---------------+--------------------------+-------------+-------------------+----------------+----------------+--------------------+---------+---------------+----------------+---------+-------------------+\n",
      "|      Date|    Time|Latitude|Longitude|      Type|Depth|Depth Error|Depth Seismic Stations|Magnitude|Magnitude Type|Magnitude Error|Magnitude Seismic Stations|Azimuthal Gap|Horizontal Distance|Horizontal Error|Root Mean Square|                  ID|   Source|Location Source|Magnitude Source|   Status|          Timestamp|\n",
      "+----------+--------+--------+---------+----------+-----+-----------+----------------------+---------+--------------+---------------+--------------------------+-------------+-------------------+----------------+----------------+--------------------+---------+---------------+----------------+---------+-------------------+\n",
      "|01/02/1965|13:44:18|  19.246|  145.616|Earthquake|131.6|       NULL|                  NULL|      6.0|            MW|           NULL|                      NULL|         NULL|               NULL|            NULL|            NULL|        ISCGEM860706|   ISCGEM|         ISCGEM|          ISCGEM|Automatic|1965-01-02 13:44:18|\n",
      "|01/04/1965|11:29:49|   1.863|  127.352|Earthquake| 80.0|       NULL|                  NULL|      5.8|            MW|           NULL|                      NULL|         NULL|               NULL|            NULL|            NULL|        ISCGEM860737|   ISCGEM|         ISCGEM|          ISCGEM|Automatic|1965-01-04 11:29:49|\n",
      "|01/05/1965|18:05:58| -20.579| -173.972|Earthquake| 20.0|       NULL|                  NULL|      6.2|            MW|           NULL|                      NULL|         NULL|               NULL|            NULL|            NULL|        ISCGEM860762|   ISCGEM|         ISCGEM|          ISCGEM|Automatic|1965-01-05 18:05:58|\n",
      "|01/08/1965|18:49:43| -59.076|  -23.557|Earthquake| 15.0|       NULL|                  NULL|      5.8|            MW|           NULL|                      NULL|         NULL|               NULL|            NULL|            NULL|        ISCGEM860856|   ISCGEM|         ISCGEM|          ISCGEM|Automatic|1965-01-08 18:49:43|\n",
      "|01/09/1965|13:32:50|  11.938|  126.427|Earthquake| 15.0|       NULL|                  NULL|      5.8|            MW|           NULL|                      NULL|         NULL|               NULL|            NULL|            NULL|        ISCGEM860890|   ISCGEM|         ISCGEM|          ISCGEM|Automatic|1965-01-09 13:32:50|\n",
      "|01/10/1965|13:36:32| -13.405|  166.629|Earthquake| 35.0|       NULL|                  NULL|      6.7|            MW|           NULL|                      NULL|         NULL|               NULL|            NULL|            NULL|        ISCGEM860922|   ISCGEM|         ISCGEM|          ISCGEM|Automatic|1965-01-10 13:36:32|\n",
      "|01/12/1965|13:32:25|  27.357|   87.867|Earthquake| 20.0|       NULL|                  NULL|      5.9|            MW|           NULL|                      NULL|         NULL|               NULL|            NULL|            NULL|        ISCGEM861007|   ISCGEM|         ISCGEM|          ISCGEM|Automatic|1965-01-12 13:32:25|\n",
      "|01/15/1965|23:17:42| -13.309|  166.212|Earthquake| 35.0|       NULL|                  NULL|      6.0|            MW|           NULL|                      NULL|         NULL|               NULL|            NULL|            NULL|        ISCGEM861111|   ISCGEM|         ISCGEM|          ISCGEM|Automatic|1965-01-15 23:17:42|\n",
      "|01/16/1965|11:32:37| -56.452|  -27.043|Earthquake| 95.0|       NULL|                  NULL|      6.0|            MW|           NULL|                      NULL|         NULL|               NULL|            NULL|            NULL|     ISCGEMSUP861125|ISCGEMSUP|         ISCGEM|          ISCGEM|Automatic|1965-01-16 11:32:37|\n",
      "|01/17/1965|10:43:17| -24.563|  178.487|Earthquake|565.0|       NULL|                  NULL|      5.8|            MW|           NULL|                      NULL|         NULL|               NULL|            NULL|            NULL|        ISCGEM861148|   ISCGEM|         ISCGEM|          ISCGEM|Automatic|1965-01-17 10:43:17|\n",
      "|01/17/1965|20:57:41|  -6.807|  108.988|Earthquake|227.9|       NULL|                  NULL|      5.9|            MW|           NULL|                      NULL|         NULL|               NULL|            NULL|            NULL|        ISCGEM861155|   ISCGEM|         ISCGEM|          ISCGEM|Automatic|1965-01-17 20:57:41|\n",
      "|01/24/1965|00:11:17|  -2.608|  125.952|Earthquake| 20.0|       NULL|                  NULL|      8.2|            MW|           NULL|                      NULL|         NULL|               NULL|            NULL|            NULL|        ISCGEM861299|   ISCGEM|         ISCGEM|          ISCGEM|Automatic|1965-01-24 00:11:17|\n",
      "|01/29/1965|09:35:30|  54.636|  161.703|Earthquake| 55.0|       NULL|                  NULL|      5.5|            MW|           NULL|                      NULL|         NULL|               NULL|            NULL|            NULL|        ISCGEM861461|   ISCGEM|         ISCGEM|          ISCGEM|Automatic|1965-01-29 09:35:30|\n",
      "|02/01/1965|05:27:06| -18.697| -177.864|Earthquake|482.9|       NULL|                  NULL|      5.6|            MW|           NULL|                      NULL|         NULL|               NULL|            NULL|            NULL|        ISCGEM859136|   ISCGEM|         ISCGEM|          ISCGEM|Automatic|1965-02-01 05:27:06|\n",
      "|02/02/1965|15:56:51|  37.523|   73.251|Earthquake| 15.0|       NULL|                  NULL|      6.0|            MW|           NULL|                      NULL|         NULL|               NULL|            NULL|            NULL|        ISCGEM859164|   ISCGEM|         ISCGEM|          ISCGEM|Automatic|1965-02-02 15:56:51|\n",
      "|02/04/1965|03:25:00|  -51.84|  139.741|Earthquake| 10.0|       NULL|                  NULL|      6.1|            MW|           NULL|                      NULL|         NULL|               NULL|            NULL|            NULL|        ISCGEM859200|   ISCGEM|         ISCGEM|          ISCGEM|Automatic|1965-02-04 03:25:00|\n",
      "|02/04/1965|05:01:22|  51.251|  178.715|Earthquake| 30.3|       NULL|                  NULL|      8.7|            MW|           NULL|                      NULL|         NULL|               NULL|            NULL|            NULL|OFFICIAL196502040...| OFFICIAL|         ISCGEM|        OFFICIAL|Automatic|1965-02-04 05:01:22|\n",
      "|02/04/1965|06:04:59|  51.639|  175.055|Earthquake| 30.0|       NULL|                  NULL|      6.0|            MW|           NULL|                      NULL|         NULL|               NULL|            NULL|            NULL|     ISCGEMSUP859215|ISCGEMSUP|         ISCGEM|          ISCGEM|Automatic|1965-02-04 06:04:59|\n",
      "|02/04/1965|06:37:06|  52.528|  172.007|Earthquake| 25.0|       NULL|                  NULL|      5.7|            MW|           NULL|                      NULL|         NULL|               NULL|            NULL|            NULL|        ISCGEM859221|   ISCGEM|         ISCGEM|          ISCGEM|Automatic|1965-02-04 06:37:06|\n",
      "|02/04/1965|06:39:32|  51.626|  175.746|Earthquake| 25.0|       NULL|                  NULL|      5.8|            MW|           NULL|                      NULL|         NULL|               NULL|            NULL|            NULL|        ISCGEM859222|   ISCGEM|         ISCGEM|          ISCGEM|Automatic|1965-02-04 06:39:32|\n",
      "+----------+--------+--------+---------+----------+-----+-----------+----------------------+---------+--------------+---------------+--------------------------+-------------+-------------------+----------------+----------------+--------------------+---------+---------------+----------------+---------+-------------------+\n",
      "only showing top 20 rows\n",
      "\n"
     ]
    }
   ],
   "source": [
    "df = df.withColumn(\"Timestamp\", concat(col(\"Date\"), lit(\" \"), col(\"Time\")))\n",
    "df = df.withColumn(\"Timestamp\", to_timestamp(df[\"Timestamp\"], \"MM/dd/yyyy HH:mm:ss\"))\n",
    "df = df.withColumn(\"Magnitude\", col(\"Magnitude\").cast(DoubleType())).withColumn(\"Depth\", col(\"Depth\").cast(DoubleType())) \\\n",
    "       .withColumn(\"Latitude\", col(\"Latitude\").cast(DoubleType())).withColumn(\"Longitude\", col(\"Longitude\").cast(DoubleType()))\n",
    "df.show()"
   ]
  },
  {
   "cell_type": "markdown",
   "id": "5f2816b5-bc73-45ac-a3b7-2d1e26479671",
   "metadata": {},
   "source": [
    "Filter the dataset to include only earthquakes with a magnitude greater than 5.0"
   ]
  },
  {
   "cell_type": "code",
   "execution_count": 4,
   "id": "7c4e8e8c-9e30-4b1c-a965-05aa0322c2ae",
   "metadata": {},
   "outputs": [
    {
     "name": "stdout",
     "output_type": "stream",
     "text": [
      "+----------+--------+--------+---------+----------+-----+-----------+----------------------+---------+--------------+---------------+--------------------------+-------------+-------------------+----------------+----------------+--------------------+---------+---------------+----------------+---------+-------------------+\n",
      "|      Date|    Time|Latitude|Longitude|      Type|Depth|Depth Error|Depth Seismic Stations|Magnitude|Magnitude Type|Magnitude Error|Magnitude Seismic Stations|Azimuthal Gap|Horizontal Distance|Horizontal Error|Root Mean Square|                  ID|   Source|Location Source|Magnitude Source|   Status|          Timestamp|\n",
      "+----------+--------+--------+---------+----------+-----+-----------+----------------------+---------+--------------+---------------+--------------------------+-------------+-------------------+----------------+----------------+--------------------+---------+---------------+----------------+---------+-------------------+\n",
      "|01/02/1965|13:44:18|  19.246|  145.616|Earthquake|131.6|       NULL|                  NULL|      6.0|            MW|           NULL|                      NULL|         NULL|               NULL|            NULL|            NULL|        ISCGEM860706|   ISCGEM|         ISCGEM|          ISCGEM|Automatic|1965-01-02 13:44:18|\n",
      "|01/04/1965|11:29:49|   1.863|  127.352|Earthquake| 80.0|       NULL|                  NULL|      5.8|            MW|           NULL|                      NULL|         NULL|               NULL|            NULL|            NULL|        ISCGEM860737|   ISCGEM|         ISCGEM|          ISCGEM|Automatic|1965-01-04 11:29:49|\n",
      "|01/05/1965|18:05:58| -20.579| -173.972|Earthquake| 20.0|       NULL|                  NULL|      6.2|            MW|           NULL|                      NULL|         NULL|               NULL|            NULL|            NULL|        ISCGEM860762|   ISCGEM|         ISCGEM|          ISCGEM|Automatic|1965-01-05 18:05:58|\n",
      "|01/08/1965|18:49:43| -59.076|  -23.557|Earthquake| 15.0|       NULL|                  NULL|      5.8|            MW|           NULL|                      NULL|         NULL|               NULL|            NULL|            NULL|        ISCGEM860856|   ISCGEM|         ISCGEM|          ISCGEM|Automatic|1965-01-08 18:49:43|\n",
      "|01/09/1965|13:32:50|  11.938|  126.427|Earthquake| 15.0|       NULL|                  NULL|      5.8|            MW|           NULL|                      NULL|         NULL|               NULL|            NULL|            NULL|        ISCGEM860890|   ISCGEM|         ISCGEM|          ISCGEM|Automatic|1965-01-09 13:32:50|\n",
      "|01/10/1965|13:36:32| -13.405|  166.629|Earthquake| 35.0|       NULL|                  NULL|      6.7|            MW|           NULL|                      NULL|         NULL|               NULL|            NULL|            NULL|        ISCGEM860922|   ISCGEM|         ISCGEM|          ISCGEM|Automatic|1965-01-10 13:36:32|\n",
      "|01/12/1965|13:32:25|  27.357|   87.867|Earthquake| 20.0|       NULL|                  NULL|      5.9|            MW|           NULL|                      NULL|         NULL|               NULL|            NULL|            NULL|        ISCGEM861007|   ISCGEM|         ISCGEM|          ISCGEM|Automatic|1965-01-12 13:32:25|\n",
      "|01/15/1965|23:17:42| -13.309|  166.212|Earthquake| 35.0|       NULL|                  NULL|      6.0|            MW|           NULL|                      NULL|         NULL|               NULL|            NULL|            NULL|        ISCGEM861111|   ISCGEM|         ISCGEM|          ISCGEM|Automatic|1965-01-15 23:17:42|\n",
      "|01/16/1965|11:32:37| -56.452|  -27.043|Earthquake| 95.0|       NULL|                  NULL|      6.0|            MW|           NULL|                      NULL|         NULL|               NULL|            NULL|            NULL|     ISCGEMSUP861125|ISCGEMSUP|         ISCGEM|          ISCGEM|Automatic|1965-01-16 11:32:37|\n",
      "|01/17/1965|10:43:17| -24.563|  178.487|Earthquake|565.0|       NULL|                  NULL|      5.8|            MW|           NULL|                      NULL|         NULL|               NULL|            NULL|            NULL|        ISCGEM861148|   ISCGEM|         ISCGEM|          ISCGEM|Automatic|1965-01-17 10:43:17|\n",
      "|01/17/1965|20:57:41|  -6.807|  108.988|Earthquake|227.9|       NULL|                  NULL|      5.9|            MW|           NULL|                      NULL|         NULL|               NULL|            NULL|            NULL|        ISCGEM861155|   ISCGEM|         ISCGEM|          ISCGEM|Automatic|1965-01-17 20:57:41|\n",
      "|01/24/1965|00:11:17|  -2.608|  125.952|Earthquake| 20.0|       NULL|                  NULL|      8.2|            MW|           NULL|                      NULL|         NULL|               NULL|            NULL|            NULL|        ISCGEM861299|   ISCGEM|         ISCGEM|          ISCGEM|Automatic|1965-01-24 00:11:17|\n",
      "|01/29/1965|09:35:30|  54.636|  161.703|Earthquake| 55.0|       NULL|                  NULL|      5.5|            MW|           NULL|                      NULL|         NULL|               NULL|            NULL|            NULL|        ISCGEM861461|   ISCGEM|         ISCGEM|          ISCGEM|Automatic|1965-01-29 09:35:30|\n",
      "|02/01/1965|05:27:06| -18.697| -177.864|Earthquake|482.9|       NULL|                  NULL|      5.6|            MW|           NULL|                      NULL|         NULL|               NULL|            NULL|            NULL|        ISCGEM859136|   ISCGEM|         ISCGEM|          ISCGEM|Automatic|1965-02-01 05:27:06|\n",
      "|02/02/1965|15:56:51|  37.523|   73.251|Earthquake| 15.0|       NULL|                  NULL|      6.0|            MW|           NULL|                      NULL|         NULL|               NULL|            NULL|            NULL|        ISCGEM859164|   ISCGEM|         ISCGEM|          ISCGEM|Automatic|1965-02-02 15:56:51|\n",
      "|02/04/1965|03:25:00|  -51.84|  139.741|Earthquake| 10.0|       NULL|                  NULL|      6.1|            MW|           NULL|                      NULL|         NULL|               NULL|            NULL|            NULL|        ISCGEM859200|   ISCGEM|         ISCGEM|          ISCGEM|Automatic|1965-02-04 03:25:00|\n",
      "|02/04/1965|05:01:22|  51.251|  178.715|Earthquake| 30.3|       NULL|                  NULL|      8.7|            MW|           NULL|                      NULL|         NULL|               NULL|            NULL|            NULL|OFFICIAL196502040...| OFFICIAL|         ISCGEM|        OFFICIAL|Automatic|1965-02-04 05:01:22|\n",
      "|02/04/1965|06:04:59|  51.639|  175.055|Earthquake| 30.0|       NULL|                  NULL|      6.0|            MW|           NULL|                      NULL|         NULL|               NULL|            NULL|            NULL|     ISCGEMSUP859215|ISCGEMSUP|         ISCGEM|          ISCGEM|Automatic|1965-02-04 06:04:59|\n",
      "|02/04/1965|06:37:06|  52.528|  172.007|Earthquake| 25.0|       NULL|                  NULL|      5.7|            MW|           NULL|                      NULL|         NULL|               NULL|            NULL|            NULL|        ISCGEM859221|   ISCGEM|         ISCGEM|          ISCGEM|Automatic|1965-02-04 06:37:06|\n",
      "|02/04/1965|06:39:32|  51.626|  175.746|Earthquake| 25.0|       NULL|                  NULL|      5.8|            MW|           NULL|                      NULL|         NULL|               NULL|            NULL|            NULL|        ISCGEM859222|   ISCGEM|         ISCGEM|          ISCGEM|Automatic|1965-02-04 06:39:32|\n",
      "+----------+--------+--------+---------+----------+-----+-----------+----------------------+---------+--------------+---------------+--------------------------+-------------+-------------------+----------------+----------------+--------------------+---------+---------------+----------------+---------+-------------------+\n",
      "only showing top 20 rows\n",
      "\n"
     ]
    }
   ],
   "source": [
    "df_earthquake = df.filter(col(\"Type\")==\"Earthquake\")\n",
    "df_earthquake = df_earthquake.filter(col(\"Magnitude\")>=5.0)\n",
    "df_earthquake.show()"
   ]
  },
  {
   "cell_type": "markdown",
   "id": "92ce6e38-4e1a-4c03-9109-f89451348059",
   "metadata": {},
   "source": [
    "Calculate the average depth and magnitude of earthquakes for each earthquake type"
   ]
  },
  {
   "cell_type": "code",
   "execution_count": 5,
   "id": "33944d7f-a11a-442d-83e8-651175b95022",
   "metadata": {},
   "outputs": [
    {
     "name": "stdout",
     "output_type": "stream",
     "text": [
      "+-----------------+-----------------+-----------------+\n",
      "|             Type|        avg_depth|    avg_magnitude|\n",
      "+-----------------+-----------------+-----------------+\n",
      "|        Explosion|              0.0|             5.85|\n",
      "|       Rock Burst|              1.0|              6.2|\n",
      "|Nuclear Explosion|              0.3|5.850685714285718|\n",
      "|       Earthquake|71.31391348140497|5.882762568870756|\n",
      "+-----------------+-----------------+-----------------+\n",
      "\n"
     ]
    }
   ],
   "source": [
    "avg_depth_magnitude = df.groupBy(\"Type\") \\\n",
    "    .agg(avg(\"Depth\").alias(\"avg_depth\"), avg(\"Magnitude\").alias(\"avg_magnitude\"))\n",
    "avg_depth_magnitude.show()"
   ]
  },
  {
   "cell_type": "markdown",
   "id": "82228117-d081-493d-b947-b1e1535f523e",
   "metadata": {},
   "source": [
    "Implement a UDF to categorize the earthquakes into levels (e.g., Low, Moderate, High) based on their magnitudes\n",
    "\n",
    "\n",
    "Calculate the distance of each earthquake from a reference location (e.g., (0, 0))."
   ]
  },
  {
   "cell_type": "code",
   "execution_count": 6,
   "id": "bded83db-1a91-45a3-a70a-f812e924d682",
   "metadata": {},
   "outputs": [
    {
     "name": "stderr",
     "output_type": "stream",
     "text": [
      "[Stage 7:>                                                          (0 + 1) / 1]\r"
     ]
    },
    {
     "name": "stdout",
     "output_type": "stream",
     "text": [
      "+----------+--------+--------+---------+----------+-----+-----------+----------------------+---------+--------------+---------------+--------------------------+-------------+-------------------+----------------+----------------+--------------------+---------+---------------+----------------+---------+-------------------+--------+------------------+\n",
      "|      Date|    Time|Latitude|Longitude|      Type|Depth|Depth Error|Depth Seismic Stations|Magnitude|Magnitude Type|Magnitude Error|Magnitude Seismic Stations|Azimuthal Gap|Horizontal Distance|Horizontal Error|Root Mean Square|                  ID|   Source|Location Source|Magnitude Source|   Status|          Timestamp|   level|          distance|\n",
      "+----------+--------+--------+---------+----------+-----+-----------+----------------------+---------+--------------+---------------+--------------------------+-------------+-------------------+----------------+----------------+--------------------+---------+---------------+----------------+---------+-------------------+--------+------------------+\n",
      "|01/02/1965|13:44:18|  19.246|  145.616|Earthquake|131.6|       NULL|                  NULL|      6.0|            MW|           NULL|                      NULL|         NULL|               NULL|            NULL|            NULL|        ISCGEM860706|   ISCGEM|         ISCGEM|          ISCGEM|Automatic|1965-01-02 13:44:18|    High| 146.8823609968195|\n",
      "|01/04/1965|11:29:49|   1.863|  127.352|Earthquake| 80.0|       NULL|                  NULL|      5.8|            MW|           NULL|                      NULL|         NULL|               NULL|            NULL|            NULL|        ISCGEM860737|   ISCGEM|         ISCGEM|          ISCGEM|Automatic|1965-01-04 11:29:49|Moderate|127.36562594750595|\n",
      "|01/05/1965|18:05:58| -20.579| -173.972|Earthquake| 20.0|       NULL|                  NULL|      6.2|            MW|           NULL|                      NULL|         NULL|               NULL|            NULL|            NULL|        ISCGEM860762|   ISCGEM|         ISCGEM|          ISCGEM|Automatic|1965-01-05 18:05:58|    High|175.18490809713035|\n",
      "|01/08/1965|18:49:43| -59.076|  -23.557|Earthquake| 15.0|       NULL|                  NULL|      5.8|            MW|           NULL|                      NULL|         NULL|               NULL|            NULL|            NULL|        ISCGEM860856|   ISCGEM|         ISCGEM|          ISCGEM|Automatic|1965-01-08 18:49:43|Moderate| 63.59957566682344|\n",
      "|01/09/1965|13:32:50|  11.938|  126.427|Earthquake| 15.0|       NULL|                  NULL|      5.8|            MW|           NULL|                      NULL|         NULL|               NULL|            NULL|            NULL|        ISCGEM860890|   ISCGEM|         ISCGEM|          ISCGEM|Automatic|1965-01-09 13:32:50|Moderate|126.98937818967381|\n",
      "|01/10/1965|13:36:32| -13.405|  166.629|Earthquake| 35.0|       NULL|                  NULL|      6.7|            MW|           NULL|                      NULL|         NULL|               NULL|            NULL|            NULL|        ISCGEM860922|   ISCGEM|         ISCGEM|          ISCGEM|Automatic|1965-01-10 13:36:32|    High|167.16733432701497|\n",
      "|01/12/1965|13:32:25|  27.357|   87.867|Earthquake| 20.0|       NULL|                  NULL|      5.9|            MW|           NULL|                      NULL|         NULL|               NULL|            NULL|            NULL|        ISCGEM861007|   ISCGEM|         ISCGEM|          ISCGEM|Automatic|1965-01-12 13:32:25|Moderate| 92.02725214848046|\n",
      "|01/15/1965|23:17:42| -13.309|  166.212|Earthquake| 35.0|       NULL|                  NULL|      6.0|            MW|           NULL|                      NULL|         NULL|               NULL|            NULL|            NULL|        ISCGEM861111|   ISCGEM|         ISCGEM|          ISCGEM|Automatic|1965-01-15 23:17:42|    High|166.74399067132822|\n",
      "|01/16/1965|11:32:37| -56.452|  -27.043|Earthquake| 95.0|       NULL|                  NULL|      6.0|            MW|           NULL|                      NULL|         NULL|               NULL|            NULL|            NULL|     ISCGEMSUP861125|ISCGEMSUP|         ISCGEM|          ISCGEM|Automatic|1965-01-16 11:32:37|    High|62.595144803730584|\n",
      "|01/17/1965|10:43:17| -24.563|  178.487|Earthquake|565.0|       NULL|                  NULL|      5.8|            MW|           NULL|                      NULL|         NULL|               NULL|            NULL|            NULL|        ISCGEM861148|   ISCGEM|         ISCGEM|          ISCGEM|Automatic|1965-01-17 10:43:17|Moderate|180.16922639008027|\n",
      "|01/17/1965|20:57:41|  -6.807|  108.988|Earthquake|227.9|       NULL|                  NULL|      5.9|            MW|           NULL|                      NULL|         NULL|               NULL|            NULL|            NULL|        ISCGEM861155|   ISCGEM|         ISCGEM|          ISCGEM|Automatic|1965-01-17 20:57:41|Moderate| 109.2003635204572|\n",
      "|01/24/1965|00:11:17|  -2.608|  125.952|Earthquake| 20.0|       NULL|                  NULL|      8.2|            MW|           NULL|                      NULL|         NULL|               NULL|            NULL|            NULL|        ISCGEM861299|   ISCGEM|         ISCGEM|          ISCGEM|Automatic|1965-01-24 00:11:17|    High|125.97899812270298|\n",
      "|01/29/1965|09:35:30|  54.636|  161.703|Earthquake| 55.0|       NULL|                  NULL|      5.5|            MW|           NULL|                      NULL|         NULL|               NULL|            NULL|            NULL|        ISCGEM861461|   ISCGEM|         ISCGEM|          ISCGEM|Automatic|1965-01-29 09:35:30|Moderate|170.68377985327137|\n",
      "|02/01/1965|05:27:06| -18.697| -177.864|Earthquake|482.9|       NULL|                  NULL|      5.6|            MW|           NULL|                      NULL|         NULL|               NULL|            NULL|            NULL|        ISCGEM859136|   ISCGEM|         ISCGEM|          ISCGEM|Automatic|1965-02-01 05:27:06|Moderate|178.84401109626234|\n",
      "|02/02/1965|15:56:51|  37.523|   73.251|Earthquake| 15.0|       NULL|                  NULL|      6.0|            MW|           NULL|                      NULL|         NULL|               NULL|            NULL|            NULL|        ISCGEM859164|   ISCGEM|         ISCGEM|          ISCGEM|Automatic|1965-02-02 15:56:51|    High| 82.30239686667699|\n",
      "|02/04/1965|03:25:00|  -51.84|  139.741|Earthquake| 10.0|       NULL|                  NULL|      6.1|            MW|           NULL|                      NULL|         NULL|               NULL|            NULL|            NULL|        ISCGEM859200|   ISCGEM|         ISCGEM|          ISCGEM|Automatic|1965-02-04 03:25:00|    High|149.04674663004224|\n",
      "|02/04/1965|05:01:22|  51.251|  178.715|Earthquake| 30.3|       NULL|                  NULL|      8.7|            MW|           NULL|                      NULL|         NULL|               NULL|            NULL|            NULL|OFFICIAL196502040...| OFFICIAL|         ISCGEM|        OFFICIAL|Automatic|1965-02-04 05:01:22|    High|185.91857418235546|\n",
      "|02/04/1965|06:04:59|  51.639|  175.055|Earthquake| 30.0|       NULL|                  NULL|      6.0|            MW|           NULL|                      NULL|         NULL|               NULL|            NULL|            NULL|     ISCGEMSUP859215|ISCGEMSUP|         ISCGEM|          ISCGEM|Automatic|1965-02-04 06:04:59|    High|182.51257311758005|\n",
      "|02/04/1965|06:37:06|  52.528|  172.007|Earthquake| 25.0|       NULL|                  NULL|      5.7|            MW|           NULL|                      NULL|         NULL|               NULL|            NULL|            NULL|        ISCGEM859221|   ISCGEM|         ISCGEM|          ISCGEM|Automatic|1965-02-04 06:37:06|Moderate| 179.8488221618368|\n",
      "|02/04/1965|06:39:32|  51.626|  175.746|Earthquake| 25.0|       NULL|                  NULL|      5.8|            MW|           NULL|                      NULL|         NULL|               NULL|            NULL|            NULL|        ISCGEM859222|   ISCGEM|         ISCGEM|          ISCGEM|Automatic|1965-02-04 06:39:32|Moderate|183.17177837210622|\n",
      "+----------+--------+--------+---------+----------+-----+-----------+----------------------+---------+--------------+---------------+--------------------------+-------------+-------------------+----------------+----------------+--------------------+---------+---------------+----------------+---------+-------------------+--------+------------------+\n",
      "only showing top 20 rows\n",
      "\n"
     ]
    },
    {
     "name": "stderr",
     "output_type": "stream",
     "text": [
      "                                                                                \r"
     ]
    }
   ],
   "source": [
    "def categorize_magnitude(magnitude):\n",
    "    if magnitude < 4.0:\n",
    "        return \"Low\"\n",
    "    elif magnitude >= 4.0 and magnitude < 6.0:\n",
    "        return \"Moderate\"\n",
    "    else:\n",
    "        return \"High\"\n",
    "\n",
    "# Register UDF\n",
    "categorize_magnitude_udf = udf(categorize_magnitude, StringType())\n",
    "\n",
    "# Apply UDF to create a new column for earthquake level\n",
    "df_udf = df.filter(col(\"Type\")==\"Earthquake\").withColumn(\"level\", categorize_magnitude_udf(df[\"Magnitude\"]))\n",
    "\n",
    "# Calculate distance from reference location (0, 0)\n",
    "df_udf = df_udf.withColumn(\"distance\", sqrt(pow(df[\"Latitude\"], 2) + pow(df[\"Longitude\"], 2)))\n",
    "\n",
    "# Show the result\n",
    "df_udf.show()\n"
   ]
  },
  {
   "cell_type": "code",
   "execution_count": 8,
   "id": "a91a0539-5971-4d48-b5dd-d235fcc39335",
   "metadata": {},
   "outputs": [],
   "source": [
    "import folium\n",
    "from folium.plugins import MarkerCluster\n",
    "import pandas\n",
    "\n",
    "earthquake_pd = df_udf.toPandas()\n",
    "\n",
    "# Create a Folium map centered at (0, 0)\n",
    "m = folium.Map(location=[0, 0], zoom_start=2)\n",
    "\n",
    "# Create a marker cluster for earthquakes\n",
    "marker_cluster = MarkerCluster().add_to(m)\n",
    "\n",
    "# Add markers for each earthquake\n",
    "for index, row in earthquake_pd.iterrows():\n",
    "    folium.Marker([row['Latitude'], row['Longitude']], \n",
    "                  popup=f\"Magnitude: {row['Magnitude']}\").add_to(marker_cluster)\n",
    "\n",
    "# Display the map\n",
    "m.save('./earthquake_map.html')\n",
    "\n",
    "df_udf.write.mode(\"overwrite\").option(\"header\", \"true\").csv(\"./processed_data\")"
   ]
  }
 ],
 "metadata": {
  "kernelspec": {
   "display_name": "Python 3 (ipykernel)",
   "language": "python",
   "name": "python3"
  },
  "language_info": {
   "codemirror_mode": {
    "name": "ipython",
    "version": 3
   },
   "file_extension": ".py",
   "mimetype": "text/x-python",
   "name": "python",
   "nbconvert_exporter": "python",
   "pygments_lexer": "ipython3",
   "version": "3.10.12"
  }
 },
 "nbformat": 4,
 "nbformat_minor": 5
}
